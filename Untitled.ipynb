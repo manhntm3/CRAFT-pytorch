{
 "cells": [
  {
   "cell_type": "code",
   "execution_count": null,
   "metadata": {},
   "outputs": [],
   "source": [
    "import cv2\n",
    "import os\n",
    "from PIL import Image"
   ]
  },
  {
   "cell_type": "code",
   "execution_count": null,
   "metadata": {},
   "outputs": [],
   "source": [
    "listdirs = os.list_dirs('data')\n",
    "for image_file in listdirs:\n",
    "    img = Image.open('data/'+image_file)\n",
    "    img = "
   ]
  },
  {
   "cell_type": "code",
   "execution_count": 3,
   "metadata": {},
   "outputs": [
    {
     "name": "stdout",
     "output_type": "stream",
     "text": [
      "----------------------------------------------------------------\n",
      "        Layer (type)               Output Shape         Param #\n",
      "================================================================\n",
      "            Conv2d-1         [-1, 64, 768, 768]           1,792\n",
      "       BatchNorm2d-2         [-1, 64, 768, 768]             128\n",
      "              ReLU-3         [-1, 64, 768, 768]               0\n",
      "            Conv2d-4         [-1, 64, 768, 768]          36,928\n",
      "       BatchNorm2d-5         [-1, 64, 768, 768]             128\n",
      "              ReLU-6         [-1, 64, 768, 768]               0\n",
      "         MaxPool2d-7         [-1, 64, 384, 384]               0\n",
      "            Conv2d-8        [-1, 128, 384, 384]          73,856\n",
      "       BatchNorm2d-9        [-1, 128, 384, 384]             256\n",
      "             ReLU-10        [-1, 128, 384, 384]               0\n",
      "           Conv2d-11        [-1, 128, 384, 384]         147,584\n",
      "      BatchNorm2d-12        [-1, 128, 384, 384]             256\n",
      "             ReLU-13        [-1, 128, 384, 384]               0\n",
      "        MaxPool2d-14        [-1, 128, 192, 192]               0\n",
      "           Conv2d-15        [-1, 256, 192, 192]         295,168\n",
      "      BatchNorm2d-16        [-1, 256, 192, 192]             512\n",
      "             ReLU-17        [-1, 256, 192, 192]               0\n",
      "           Conv2d-18        [-1, 256, 192, 192]         590,080\n",
      "      BatchNorm2d-19        [-1, 256, 192, 192]             512\n",
      "             ReLU-20        [-1, 256, 192, 192]               0\n",
      "           Conv2d-21        [-1, 256, 192, 192]         590,080\n",
      "      BatchNorm2d-22        [-1, 256, 192, 192]             512\n",
      "             ReLU-23        [-1, 256, 192, 192]               0\n",
      "        MaxPool2d-24          [-1, 256, 96, 96]               0\n",
      "           Conv2d-25          [-1, 512, 96, 96]       1,180,160\n",
      "      BatchNorm2d-26          [-1, 512, 96, 96]           1,024\n",
      "             ReLU-27          [-1, 512, 96, 96]               0\n",
      "           Conv2d-28          [-1, 512, 96, 96]       2,359,808\n",
      "      BatchNorm2d-29          [-1, 512, 96, 96]           1,024\n",
      "             ReLU-30          [-1, 512, 96, 96]               0\n",
      "           Conv2d-31          [-1, 512, 96, 96]       2,359,808\n",
      "      BatchNorm2d-32          [-1, 512, 96, 96]           1,024\n",
      "             ReLU-33          [-1, 512, 96, 96]               0\n",
      "        MaxPool2d-34          [-1, 512, 48, 48]               0\n",
      "           Conv2d-35          [-1, 512, 48, 48]       2,359,808\n",
      "      BatchNorm2d-36          [-1, 512, 48, 48]           1,024\n",
      "             ReLU-37          [-1, 512, 48, 48]               0\n",
      "           Conv2d-38          [-1, 512, 48, 48]       2,359,808\n",
      "      BatchNorm2d-39          [-1, 512, 48, 48]           1,024\n",
      "             ReLU-40          [-1, 512, 48, 48]               0\n",
      "           Conv2d-41          [-1, 512, 48, 48]       2,359,808\n",
      "      BatchNorm2d-42          [-1, 512, 48, 48]           1,024\n",
      "             ReLU-43          [-1, 512, 48, 48]               0\n",
      "        MaxPool2d-44          [-1, 512, 24, 24]               0\n",
      "AdaptiveAvgPool2d-45            [-1, 512, 7, 7]               0\n",
      "           Linear-46                 [-1, 4096]     102,764,544\n",
      "             ReLU-47                 [-1, 4096]               0\n",
      "          Dropout-48                 [-1, 4096]               0\n",
      "           Linear-49                 [-1, 4096]      16,781,312\n",
      "             ReLU-50                 [-1, 4096]               0\n",
      "          Dropout-51                 [-1, 4096]               0\n",
      "           Linear-52                 [-1, 1000]       4,097,000\n",
      "================================================================\n",
      "Total params: 138,365,992\n",
      "Trainable params: 138,365,992\n",
      "Non-trainable params: 0\n",
      "----------------------------------------------------------------\n",
      "Input size (MB): 6.75\n",
      "Forward/backward pass size (MB): 3782.64\n",
      "Params size (MB): 527.82\n",
      "Estimated Total Size (MB): 4317.21\n",
      "----------------------------------------------------------------\n"
     ]
    }
   ],
   "source": [
    "import torch\n",
    "from torchvision import models\n",
    "from torchsummary import summary\n",
    "\n",
    "device = torch.device('cpu')\n",
    "vgg = models.vgg16_bn().to(device)\n",
    "summary(vgg,(3,768,768))"
   ]
  },
  {
   "cell_type": "code",
   "execution_count": 5,
   "metadata": {},
   "outputs": [],
   "source": [
    "from collections import namedtuple\n",
    "\n",
    "import torch\n",
    "import torch.nn as nn\n",
    "import torch.nn.init as init\n",
    "from torchvision import models\n",
    "from torchvision.models.vgg import model_urls"
   ]
  },
  {
   "cell_type": "code",
   "execution_count": 12,
   "metadata": {},
   "outputs": [
    {
     "name": "stdout",
     "output_type": "stream",
     "text": [
      "29\n",
      "ReLU(inplace=True)\n",
      "30\n",
      "Conv2d(512, 512, kernel_size=(3, 3), stride=(1, 1), padding=(1, 1))\n",
      "31\n",
      "BatchNorm2d(512, eps=1e-05, momentum=0.1, affine=True, track_running_stats=True)\n",
      "32\n",
      "ReLU(inplace=True)\n",
      "33\n",
      "MaxPool2d(kernel_size=2, stride=2, padding=0, dilation=1, ceil_mode=False)\n",
      "34\n",
      "Conv2d(512, 512, kernel_size=(3, 3), stride=(1, 1), padding=(1, 1))\n",
      "35\n",
      "BatchNorm2d(512, eps=1e-05, momentum=0.1, affine=True, track_running_stats=True)\n",
      "36\n",
      "ReLU(inplace=True)\n",
      "37\n",
      "Conv2d(512, 512, kernel_size=(3, 3), stride=(1, 1), padding=(1, 1))\n",
      "38\n",
      "BatchNorm2d(512, eps=1e-05, momentum=0.1, affine=True, track_running_stats=True)\n"
     ]
    }
   ],
   "source": [
    "pretrained = True\n",
    "#model_urls['vgg16_bn'] = model_urls['vgg16_bn'].replace('https://', 'http://')\n",
    "vgg_pretrained_features = models.vgg16_bn(pretrained=pretrained).features\n",
    "slice1 = torch.nn.Sequential()\n",
    "for x in range(29,39):\n",
    "    slice1.add_module(str(x), vgg_pretrained_features[x])\n",
    "    print(x)\n",
    "    print(vgg_pretrained_features[x])"
   ]
  }
 ],
 "metadata": {
  "kernelspec": {
   "display_name": "Python 3",
   "language": "python",
   "name": "python3"
  },
  "language_info": {
   "codemirror_mode": {
    "name": "ipython",
    "version": 3
   },
   "file_extension": ".py",
   "mimetype": "text/x-python",
   "name": "python",
   "nbconvert_exporter": "python",
   "pygments_lexer": "ipython3",
   "version": "3.6.8"
  }
 },
 "nbformat": 4,
 "nbformat_minor": 2
}
