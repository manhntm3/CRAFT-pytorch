{
 "cells": [
  {
   "cell_type": "code",
   "execution_count": 8,
   "metadata": {},
   "outputs": [],
   "source": [
    "from PIL import Image\n",
    "import json\n",
    "import timeit\n",
    "import os\n",
    "from PIL import ImageEnhance\n",
    "from recognizer.parser import parse_email\n",
    "from recognizer.parser import parse_phone\n",
    "from recognizer.parser import parse_website\n",
    "from recognizer.parser import parse_name\n",
    "from recognizer.parser import parse_address\n",
    "from recognizer.parser import parse_company\n",
    "from recognizer.parser import parse_info\n",
    "from utils import preprocessing\n",
    "import pytesseract\n"
   ]
  },
  {
   "cell_type": "code",
   "execution_count": 1,
   "metadata": {
    "scrolled": true
   },
   "outputs": [
    {
     "ename": "NameError",
     "evalue": "name 'timeit' is not defined",
     "output_type": "error",
     "traceback": [
      "\u001b[0;31m---------------------------------------------------------------------------\u001b[0m",
      "\u001b[0;31mNameError\u001b[0m                                 Traceback (most recent call last)",
      "\u001b[0;32m<ipython-input-1-96c22ef9cd2e>\u001b[0m in \u001b[0;36m<module>\u001b[0;34m\u001b[0m\n\u001b[0;32m----> 1\u001b[0;31m \u001b[0mstart\u001b[0m \u001b[0;34m=\u001b[0m \u001b[0mtimeit\u001b[0m\u001b[0;34m.\u001b[0m\u001b[0mdefault_timer\u001b[0m\u001b[0;34m(\u001b[0m\u001b[0;34m)\u001b[0m\u001b[0;34m\u001b[0m\u001b[0;34m\u001b[0m\u001b[0m\n\u001b[0m\u001b[1;32m      2\u001b[0m \u001b[0minformation\u001b[0m \u001b[0;34m=\u001b[0m \u001b[0;34m[\u001b[0m\u001b[0;34m]\u001b[0m\u001b[0;34m\u001b[0m\u001b[0;34m\u001b[0m\u001b[0m\n\u001b[1;32m      3\u001b[0m \u001b[0;32mfor\u001b[0m \u001b[0mfile\u001b[0m \u001b[0;32min\u001b[0m \u001b[0mos\u001b[0m\u001b[0;34m.\u001b[0m\u001b[0mlistdir\u001b[0m\u001b[0;34m(\u001b[0m\u001b[0;34m'result/temp_result'\u001b[0m\u001b[0;34m)\u001b[0m\u001b[0;34m:\u001b[0m\u001b[0;34m\u001b[0m\u001b[0;34m\u001b[0m\u001b[0m\n\u001b[1;32m      4\u001b[0m     \u001b[0mfilename\u001b[0m \u001b[0;34m=\u001b[0m \u001b[0mos\u001b[0m\u001b[0;34m.\u001b[0m\u001b[0mpath\u001b[0m\u001b[0;34m.\u001b[0m\u001b[0msplitext\u001b[0m\u001b[0;34m(\u001b[0m\u001b[0mfile\u001b[0m\u001b[0;34m)\u001b[0m\u001b[0;34m[\u001b[0m\u001b[0;36m0\u001b[0m\u001b[0;34m]\u001b[0m\u001b[0;34m\u001b[0m\u001b[0;34m\u001b[0m\u001b[0m\n\u001b[1;32m      5\u001b[0m     \u001b[0mextension\u001b[0m \u001b[0;34m=\u001b[0m \u001b[0mos\u001b[0m\u001b[0;34m.\u001b[0m\u001b[0mpath\u001b[0m\u001b[0;34m.\u001b[0m\u001b[0msplitext\u001b[0m\u001b[0;34m(\u001b[0m\u001b[0mfile\u001b[0m\u001b[0;34m)\u001b[0m\u001b[0;34m[\u001b[0m\u001b[0;36m1\u001b[0m\u001b[0;34m]\u001b[0m\u001b[0;34m\u001b[0m\u001b[0;34m\u001b[0m\u001b[0m\n",
      "\u001b[0;31mNameError\u001b[0m: name 'timeit' is not defined"
     ]
    }
   ],
   "source": [
    "start = timeit.default_timer()\n",
    "information = []\n",
    "for file in os.listdir('result/temp_result'):\n",
    "    filename = os.path.splitext(file)[0]\n",
    "    extension = os.path.splitext(file)[1]\n",
    "    if extension == '.tif':\n",
    "        #!tesseract oem 13 --tessdata-dir ./result/ ./result/temp_result{filename}.png ./test/{filename+'-eng'} -l eng+vie\n",
    "        image = Image.open('result/temp_result/'+file)\n",
    "        config = '--psm 10 --oem 3 -l eng+vie'\n",
    "        raw_text = pytesseract.image_to_string(image, lang = 'eng+vie', config = config)\n",
    "        information.append(raw_text)\n",
    "    \n",
    "print(information)    \n",
    "X = {\n",
    "    \"name\":[],\n",
    "    \"phone\":[],\n",
    "    \"email\":[],\n",
    "    \"company\":[],\n",
    "    \"website\":[],\n",
    "    \"address\":[],\n",
    "    \"extra_information\":[]\n",
    "}\n",
    "for i in range(len(information)):\n",
    "    info = information[i]\n",
    "    if parse_info(info):\n",
    "\n",
    "        email_parse = parse_email(info) \n",
    "        if email_parse != None:\n",
    "            X[\"email\"].append(email_parse)\n",
    "            continue\n",
    "\n",
    "        phone_parse = parse_phone(info)\n",
    "        if phone_parse != None:\n",
    "            X[\"phone\"].append(phone_parse)\n",
    "            continue\n",
    "\n",
    "        website_parse = parse_website(info)\n",
    "        if website_parse != None:\n",
    "            X[\"website\"].append(website_parse)\n",
    "            continue\n",
    "\n",
    "        company_parse = parse_company(info)\n",
    "        if company_parse != None:\n",
    "            X[\"company\"].append(company_parse)\n",
    "            continue\n",
    "\n",
    "        address_parse = parse_address(info)\n",
    "        if address_parse != None:\n",
    "            X[\"address\"].append(address_parse)\n",
    "            continue\n",
    "\n",
    "        name_parse = parse_name(info)\n",
    "        if name_parse != None:\n",
    "            X[\"name\"].append(info)\n",
    "            continue\n",
    "\n",
    "        X[\"extra_information\"].append(info)\n",
    "print(X)\n",
    "print('TimeProcessing: ', timeit.default_timer() - start)\n"
   ]
  }
 ],
 "metadata": {
  "kernelspec": {
   "display_name": "Python 3",
   "language": "python",
   "name": "python3"
  },
  "language_info": {
   "codemirror_mode": {
    "name": "ipython",
    "version": 3
   },
   "file_extension": ".py",
   "mimetype": "text/x-python",
   "name": "python",
   "nbconvert_exporter": "python",
   "pygments_lexer": "ipython3",
   "version": "3.6.8"
  }
 },
 "nbformat": 4,
 "nbformat_minor": 2
}
